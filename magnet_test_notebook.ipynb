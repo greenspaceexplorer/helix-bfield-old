{
 "cells": [
  {
   "cell_type": "code",
   "execution_count": 1,
   "metadata": {},
   "outputs": [
    {
     "name": "stdout",
     "output_type": "stream",
     "text": [
      "make: Nothing to be done for 'all'.\n"
     ]
    }
   ],
   "source": [
    "%%bash\n",
    "make -f Makefile.test"
   ]
  },
  {
   "cell_type": "code",
   "execution_count": 2,
   "metadata": {},
   "outputs": [
    {
     "name": "stdout",
     "output_type": "stream",
     "text": [
      "\n",
      "Full magnet test, no change in coil position:\n",
      "\n",
      "\t( X  Y  Z) = ( 0  0  0.1 )\n",
      "HELIX:\n",
      "\t(BX BY BZ) = ( 0  0  1.1952 )\n",
      "HEAT:\n",
      "\t(BX BY BZ) = ( 0  0  1.1952 )\n",
      "\n",
      "\t( X  Y  Z) = ( 0.05  0.07  0.1 )\n",
      "HELIX:\n",
      "\t(BX BY BZ) = ( -0.105413  -0.147579  1.10281 )\n",
      "HEAT:\n",
      "\t(BX BY BZ) = ( -0.105413  -0.147579  1.10281 )\n"
     ]
    }
   ],
   "source": [
    "%%bash\n",
    "./test"
   ]
  },
  {
   "cell_type": "code",
   "execution_count": 3,
   "metadata": {},
   "outputs": [
    {
     "name": "stdout",
     "output_type": "stream",
     "text": [
      "rm -f src/*.o heatsrc/*.o  test\n"
     ]
    }
   ],
   "source": [
    "%%bash\n",
    "make -f Makefile.test clean"
   ]
  },
  {
   "cell_type": "code",
   "execution_count": null,
   "metadata": {},
   "outputs": [],
   "source": []
  }
 ],
 "metadata": {
  "kernelspec": {
   "display_name": "Python 3",
   "language": "python",
   "name": "python3"
  },
  "language_info": {
   "codemirror_mode": {
    "name": "ipython",
    "version": 3
   },
   "file_extension": ".py",
   "mimetype": "text/x-python",
   "name": "python",
   "nbconvert_exporter": "python",
   "pygments_lexer": "ipython3",
   "version": "3.8.8"
  }
 },
 "nbformat": 4,
 "nbformat_minor": 4
}
