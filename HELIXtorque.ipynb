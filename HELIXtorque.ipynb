{
 "cells": [
  {
   "cell_type": "markdown",
   "metadata": {},
   "source": [
    "# HELIX Rotor Torque Calculation"
   ]
  },
  {
   "cell_type": "markdown",
   "metadata": {},
   "source": [
    "## Julia stuff for easier calculation"
   ]
  },
  {
   "cell_type": "code",
   "execution_count": 1,
   "metadata": {},
   "outputs": [
    {
     "data": {
      "text/plain": [
       "\"/Users/noahgreen/Documents/GitHub/helix-magnetic-field\""
      ]
     },
     "execution_count": 1,
     "metadata": {},
     "output_type": "execute_result"
    }
   ],
   "source": [
    "thisdir = pwd()"
   ]
  },
  {
   "cell_type": "code",
   "execution_count": 2,
   "metadata": {},
   "outputs": [],
   "source": [
    "using DataFrames"
   ]
  },
  {
   "cell_type": "code",
   "execution_count": 3,
   "metadata": {},
   "outputs": [],
   "source": [
    "using CSV"
   ]
  },
  {
   "cell_type": "code",
   "execution_count": 4,
   "metadata": {},
   "outputs": [],
   "source": [
    "struct HelixCoil{U<:Float64,V<:Int64}\n",
    "    current::U\n",
    "    rinner::Vector{U}\n",
    "    router::Vector{U}\n",
    "    turns::Vector{U}\n",
    "    divρ::Vector{V}\n",
    "    divz::Vector{V}\n",
    "end"
   ]
  },
  {
   "cell_type": "code",
   "execution_count": 5,
   "metadata": {},
   "outputs": [
    {
     "data": {
      "text/plain": [
       "HelixCoil"
      ]
     },
     "execution_count": 5,
     "metadata": {},
     "output_type": "execute_result"
    }
   ],
   "source": [
    "function HelixCoil(dict::Dict)\n",
    "    current = parse(Float64,dict[:current])\n",
    "    rinner = parse.(Float64,dict[:inner_radius])\n",
    "    router = parse.(Float64,dict[:outer_radius])\n",
    "    turns = parse.(Float64,dict[:subcoil_turns])\n",
    "    divρ = parse.(Int64,dict[:subcoil_rho_div])\n",
    "    divz = parse.(Int64,dict[:subcoil_z_div])\n",
    "    return HelixCoil{Float64,Int64}(current,rinner,router,turns,divρ,divz)\n",
    "end"
   ]
  },
  {
   "cell_type": "markdown",
   "metadata": {},
   "source": [
    "## Load and parse data"
   ]
  },
  {
   "cell_type": "markdown",
   "metadata": {},
   "source": [
    "### Get information from the best fit of the coils to the measured magnetic field"
   ]
  },
  {
   "cell_type": "code",
   "execution_count": 6,
   "metadata": {},
   "outputs": [],
   "source": [
    "helix_config_io = open(\"helix_config_fitted.csv\",\"r\")\n",
    "helix_config_str = read(helix_config_io,String)\n",
    "close(helix_config_io)"
   ]
  },
  {
   "cell_type": "code",
   "execution_count": 7,
   "metadata": {},
   "outputs": [
    {
     "data": {
      "text/plain": [
       "22-element Vector{SubString{String}}:\n",
       " \"default_contraction,0\"\n",
       " \"new_coil\"\n",
       " \"current,91.5\"\n",
       " \"width,0.075818\"\n",
       " \"rotation_angleaxis,1.570381514159932,0.006311291406169085,0.9999601668074448,-0.006311291406168431\"\n",
       " \"origin,-0.3570241330755666,-0.005845356030904593,5.094722084431961e-05\"\n",
       " \"inner_radius,0.1962736292766629,0.2073585464821345,0.2262812157433628\"\n",
       " \"outer_radius,0.2073585464821345,0.2262812157433628,0.2461403261570631\"\n",
       " \"subcoil_turns,1995.9,5150,5489.5\"\n",
       " \"subcoil_rho_div,8,8,8\"\n",
       " \"subcoil_z_div,52,32,32\"\n",
       " \"new_coil\"\n",
       " \"current,91.5\"\n",
       " \"width,0.075818\"\n",
       " \"rotation_angleaxis,1.570579546934161,0.00151963059283926,0.9999976907201948,-0.001519630592839103\"\n",
       " \"origin,0.3482921329327381,-0.0007180087020030899,-0.005737567305902048\"\n",
       " \"inner_radius,0.1961598448054855,0.2069948489118565,0.2262520443774237\"\n",
       " \"outer_radius,0.2069938849435197,0.2262520443774237,0.2469898952084166\"\n",
       " \"subcoil_turns,1976,5110,5486.7\"\n",
       " \"subcoil_rho_div,8,8,8\"\n",
       " \"subcoil_z_div,52,32,32\"\n",
       " \"\""
      ]
     },
     "execution_count": 7,
     "metadata": {},
     "output_type": "execute_result"
    }
   ],
   "source": [
    "helix_config_str_list = split(helix_config_str,\"\\n\")"
   ]
  },
  {
   "cell_type": "code",
   "execution_count": 8,
   "metadata": {},
   "outputs": [
    {
     "data": {
      "text/plain": [
       "2-element Vector{Dict}:\n",
       " Dict{Any, Any}(:inner_radius => [\"0.1962736292766629\", \"0.2073585464821345\", \"0.2262812157433628\"], :subcoil_turns => [\"1995.9\", \"5150\", \"5489.5\"], :subcoil_rho_div => [\"8\", \"8\", \"8\"], :subcoil_z_div => [\"52\", \"32\", \"32\"], :outer_radius => [\"0.2073585464821345\", \"0.2262812157433628\", \"0.2461403261570631\"], :current => \"91.5\")\n",
       " Dict{Any, Any}(:inner_radius => [\"0.1961598448054855\", \"0.2069948489118565\", \"0.2262520443774237\"], :subcoil_turns => [\"1976\", \"5110\", \"5486.7\"], :subcoil_rho_div => [\"8\", \"8\", \"8\"], :subcoil_z_div => [\"52\", \"32\", \"32\"], :outer_radius => [\"0.2069938849435197\", \"0.2262520443774237\", \"0.2469898952084166\"], :current => \"91.5\")"
      ]
     },
     "execution_count": 8,
     "metadata": {},
     "output_type": "execute_result"
    }
   ],
   "source": [
    "coil_dict_vec = Dict[]\n",
    "coil_dict = nothing\n",
    "for row in helix_config_str_list\n",
    "    rowlist = split(row,\",\")\n",
    "    if rowlist[1] == \"new_coil\"\n",
    "        if coil_dict === nothing\n",
    "            coil_dict = Dict()\n",
    "            continue\n",
    "        else\n",
    "            push!(coil_dict_vec,coil_dict)\n",
    "            coil_dict = Dict()\n",
    "            continue\n",
    "        end\n",
    "    elseif rowlist[1] == \"current\"\n",
    "        coil_dict[:current] = string(rowlist[2])\n",
    "    elseif rowlist[1] == \"inner_radius\"\n",
    "        coil_dict[:inner_radius] = string.(rowlist[2:end])\n",
    "    elseif rowlist[1] == \"outer_radius\"\n",
    "        coil_dict[:outer_radius] = string.(rowlist[2:end])\n",
    "    elseif rowlist[1] == \"subcoil_turns\"\n",
    "        coil_dict[:subcoil_turns] = string.(rowlist[2:end])\n",
    "    elseif rowlist[1] == \"subcoil_rho_div\"\n",
    "        coil_dict[:subcoil_rho_div] = string.(rowlist[2:end])\n",
    "    elseif rowlist[1] == \"subcoil_z_div\"\n",
    "        coil_dict[:subcoil_z_div] = string.(rowlist[2:end])\n",
    "    else\n",
    "        continue\n",
    "    end\n",
    "end\n",
    "push!(coil_dict_vec,coil_dict)"
   ]
  },
  {
   "cell_type": "code",
   "execution_count": 9,
   "metadata": {},
   "outputs": [
    {
     "data": {
      "text/plain": [
       "2-element Vector{HelixCoil{Float64, Int64}}:\n",
       " HelixCoil{Float64, Int64}(91.5, [0.1962736292766629, 0.2073585464821345, 0.2262812157433628], [0.2073585464821345, 0.2262812157433628, 0.2461403261570631], [1995.9, 5150.0, 5489.5], [8, 8, 8], [52, 32, 32])\n",
       " HelixCoil{Float64, Int64}(91.5, [0.1961598448054855, 0.2069948489118565, 0.2262520443774237], [0.2069938849435197, 0.2262520443774237, 0.2469898952084166], [1976.0, 5110.0, 5486.7], [8, 8, 8], [52, 32, 32])"
      ]
     },
     "execution_count": 9,
     "metadata": {},
     "output_type": "execute_result"
    }
   ],
   "source": [
    "helix_coils = HelixCoil.(coil_dict_vec)"
   ]
  },
  {
   "cell_type": "markdown",
   "metadata": {},
   "source": [
    "### Get information for Earth's B-field at time and location of flight"
   ]
  },
  {
   "cell_type": "markdown",
   "metadata": {},
   "source": [
    "Information acquired from the NOAA's [world magnetic model](https://www.ngdc.noaa.gov/geomag/WMM/DoDWMM.shtml). I only take the horizontal component of the field since the vertical component does not contribute to vertical torque. Screenshot of query below:\n",
    "\n",
    "![wmm query](wmm_query.png)"
   ]
  },
  {
   "cell_type": "code",
   "execution_count": 11,
   "metadata": {},
   "outputs": [
    {
     "data": {
      "text/html": [
       "<table class=\"data-frame\"><thead><tr><th></th><th>date</th><th>latitude(deg)</th><th>longitude(deg)</th><th>elevation(km)</th><th>horintensity(nT)</th><th>annualchange(nT)</th></tr><tr><th></th><th>Float64</th><th>Float64</th><th>Float64</th><th>Float64</th><th>Float64</th><th>Float64</th></tr></thead><tbody><p>972 rows × 7 columns (omitted printing of 1 columns)</p><tr><th>1</th><td>2022.25</td><td>70.0</td><td>-140.0</td><td>35.0</td><td>8404.9</td><td>39.0</td></tr><tr><th>2</th><td>2022.25</td><td>70.0</td><td>-139.0</td><td>35.0</td><td>8300.0</td><td>40.1</td></tr><tr><th>3</th><td>2022.25</td><td>70.0</td><td>-138.0</td><td>35.0</td><td>8193.8</td><td>41.2</td></tr><tr><th>4</th><td>2022.25</td><td>70.0</td><td>-137.0</td><td>35.0</td><td>8086.3</td><td>42.4</td></tr><tr><th>5</th><td>2022.25</td><td>70.0</td><td>-136.0</td><td>35.0</td><td>7977.6</td><td>43.5</td></tr><tr><th>6</th><td>2022.25</td><td>70.0</td><td>-135.0</td><td>35.0</td><td>7867.7</td><td>44.6</td></tr><tr><th>7</th><td>2022.25</td><td>70.0</td><td>-134.0</td><td>35.0</td><td>7756.9</td><td>45.8</td></tr><tr><th>8</th><td>2022.25</td><td>70.0</td><td>-133.0</td><td>35.0</td><td>7645.2</td><td>46.9</td></tr><tr><th>9</th><td>2022.25</td><td>70.0</td><td>-132.0</td><td>35.0</td><td>7532.7</td><td>48.0</td></tr><tr><th>10</th><td>2022.25</td><td>70.0</td><td>-131.0</td><td>35.0</td><td>7419.4</td><td>49.2</td></tr><tr><th>11</th><td>2022.25</td><td>70.0</td><td>-130.0</td><td>35.0</td><td>7305.6</td><td>50.3</td></tr><tr><th>12</th><td>2022.25</td><td>70.0</td><td>-129.0</td><td>35.0</td><td>7191.4</td><td>51.4</td></tr><tr><th>13</th><td>2022.25</td><td>70.0</td><td>-128.0</td><td>35.0</td><td>7076.8</td><td>52.5</td></tr><tr><th>14</th><td>2022.25</td><td>70.0</td><td>-127.0</td><td>35.0</td><td>6962.0</td><td>53.6</td></tr><tr><th>15</th><td>2022.25</td><td>70.0</td><td>-126.0</td><td>35.0</td><td>6847.2</td><td>54.7</td></tr><tr><th>16</th><td>2022.25</td><td>70.0</td><td>-125.0</td><td>35.0</td><td>6732.4</td><td>55.8</td></tr><tr><th>17</th><td>2022.25</td><td>70.0</td><td>-124.0</td><td>35.0</td><td>6618.0</td><td>56.9</td></tr><tr><th>18</th><td>2022.25</td><td>70.0</td><td>-123.0</td><td>35.0</td><td>6504.0</td><td>58.0</td></tr><tr><th>19</th><td>2022.25</td><td>70.0</td><td>-122.0</td><td>35.0</td><td>6390.6</td><td>59.0</td></tr><tr><th>20</th><td>2022.25</td><td>70.0</td><td>-121.0</td><td>35.0</td><td>6278.1</td><td>60.0</td></tr><tr><th>21</th><td>2022.25</td><td>70.0</td><td>-120.0</td><td>35.0</td><td>6166.5</td><td>61.0</td></tr><tr><th>22</th><td>2022.25</td><td>70.0</td><td>-119.0</td><td>35.0</td><td>6056.3</td><td>62.0</td></tr><tr><th>23</th><td>2022.25</td><td>70.0</td><td>-118.0</td><td>35.0</td><td>5947.5</td><td>62.9</td></tr><tr><th>24</th><td>2022.25</td><td>70.0</td><td>-117.0</td><td>35.0</td><td>5840.5</td><td>63.8</td></tr><tr><th>25</th><td>2022.25</td><td>70.0</td><td>-116.0</td><td>35.0</td><td>5735.4</td><td>64.7</td></tr><tr><th>26</th><td>2022.25</td><td>70.0</td><td>-115.0</td><td>35.0</td><td>5632.6</td><td>65.5</td></tr><tr><th>27</th><td>2022.25</td><td>70.0</td><td>-114.0</td><td>35.0</td><td>5532.3</td><td>66.3</td></tr><tr><th>28</th><td>2022.25</td><td>70.0</td><td>-113.0</td><td>35.0</td><td>5434.9</td><td>67.0</td></tr><tr><th>29</th><td>2022.25</td><td>70.0</td><td>-112.0</td><td>35.0</td><td>5340.5</td><td>67.6</td></tr><tr><th>30</th><td>2022.25</td><td>70.0</td><td>-111.0</td><td>35.0</td><td>5249.7</td><td>68.2</td></tr><tr><th>&vellip;</th><td>&vellip;</td><td>&vellip;</td><td>&vellip;</td><td>&vellip;</td><td>&vellip;</td><td>&vellip;</td></tr></tbody></table>"
      ],
      "text/latex": [
       "\\begin{tabular}{r|ccccccc}\n",
       "\t& date & latitude(deg) & longitude(deg) & elevation(km) & horintensity(nT) & annualchange(nT) & \\\\\n",
       "\t\\hline\n",
       "\t& Float64 & Float64 & Float64 & Float64 & Float64 & Float64 & \\\\\n",
       "\t\\hline\n",
       "\t1 & 2022.25 & 70.0 & -140.0 & 35.0 & 8404.9 & 39.0 & $\\dots$ \\\\\n",
       "\t2 & 2022.25 & 70.0 & -139.0 & 35.0 & 8300.0 & 40.1 & $\\dots$ \\\\\n",
       "\t3 & 2022.25 & 70.0 & -138.0 & 35.0 & 8193.8 & 41.2 & $\\dots$ \\\\\n",
       "\t4 & 2022.25 & 70.0 & -137.0 & 35.0 & 8086.3 & 42.4 & $\\dots$ \\\\\n",
       "\t5 & 2022.25 & 70.0 & -136.0 & 35.0 & 7977.6 & 43.5 & $\\dots$ \\\\\n",
       "\t6 & 2022.25 & 70.0 & -135.0 & 35.0 & 7867.7 & 44.6 & $\\dots$ \\\\\n",
       "\t7 & 2022.25 & 70.0 & -134.0 & 35.0 & 7756.9 & 45.8 & $\\dots$ \\\\\n",
       "\t8 & 2022.25 & 70.0 & -133.0 & 35.0 & 7645.2 & 46.9 & $\\dots$ \\\\\n",
       "\t9 & 2022.25 & 70.0 & -132.0 & 35.0 & 7532.7 & 48.0 & $\\dots$ \\\\\n",
       "\t10 & 2022.25 & 70.0 & -131.0 & 35.0 & 7419.4 & 49.2 & $\\dots$ \\\\\n",
       "\t11 & 2022.25 & 70.0 & -130.0 & 35.0 & 7305.6 & 50.3 & $\\dots$ \\\\\n",
       "\t12 & 2022.25 & 70.0 & -129.0 & 35.0 & 7191.4 & 51.4 & $\\dots$ \\\\\n",
       "\t13 & 2022.25 & 70.0 & -128.0 & 35.0 & 7076.8 & 52.5 & $\\dots$ \\\\\n",
       "\t14 & 2022.25 & 70.0 & -127.0 & 35.0 & 6962.0 & 53.6 & $\\dots$ \\\\\n",
       "\t15 & 2022.25 & 70.0 & -126.0 & 35.0 & 6847.2 & 54.7 & $\\dots$ \\\\\n",
       "\t16 & 2022.25 & 70.0 & -125.0 & 35.0 & 6732.4 & 55.8 & $\\dots$ \\\\\n",
       "\t17 & 2022.25 & 70.0 & -124.0 & 35.0 & 6618.0 & 56.9 & $\\dots$ \\\\\n",
       "\t18 & 2022.25 & 70.0 & -123.0 & 35.0 & 6504.0 & 58.0 & $\\dots$ \\\\\n",
       "\t19 & 2022.25 & 70.0 & -122.0 & 35.0 & 6390.6 & 59.0 & $\\dots$ \\\\\n",
       "\t20 & 2022.25 & 70.0 & -121.0 & 35.0 & 6278.1 & 60.0 & $\\dots$ \\\\\n",
       "\t21 & 2022.25 & 70.0 & -120.0 & 35.0 & 6166.5 & 61.0 & $\\dots$ \\\\\n",
       "\t22 & 2022.25 & 70.0 & -119.0 & 35.0 & 6056.3 & 62.0 & $\\dots$ \\\\\n",
       "\t23 & 2022.25 & 70.0 & -118.0 & 35.0 & 5947.5 & 62.9 & $\\dots$ \\\\\n",
       "\t24 & 2022.25 & 70.0 & -117.0 & 35.0 & 5840.5 & 63.8 & $\\dots$ \\\\\n",
       "\t25 & 2022.25 & 70.0 & -116.0 & 35.0 & 5735.4 & 64.7 & $\\dots$ \\\\\n",
       "\t26 & 2022.25 & 70.0 & -115.0 & 35.0 & 5632.6 & 65.5 & $\\dots$ \\\\\n",
       "\t27 & 2022.25 & 70.0 & -114.0 & 35.0 & 5532.3 & 66.3 & $\\dots$ \\\\\n",
       "\t28 & 2022.25 & 70.0 & -113.0 & 35.0 & 5434.9 & 67.0 & $\\dots$ \\\\\n",
       "\t29 & 2022.25 & 70.0 & -112.0 & 35.0 & 5340.5 & 67.6 & $\\dots$ \\\\\n",
       "\t30 & 2022.25 & 70.0 & -111.0 & 35.0 & 5249.7 & 68.2 & $\\dots$ \\\\\n",
       "\t$\\dots$ & $\\dots$ & $\\dots$ & $\\dots$ & $\\dots$ & $\\dots$ & $\\dots$ &  \\\\\n",
       "\\end{tabular}\n"
      ],
      "text/plain": [
       "\u001b[1m972×7 DataFrame\u001b[0m\n",
       "\u001b[1m Row \u001b[0m│\u001b[1m date    \u001b[0m\u001b[1m latitude(deg) \u001b[0m\u001b[1m longitude(deg) \u001b[0m\u001b[1m elevation(km) \u001b[0m\u001b[1m horintensity(nT)\u001b[0m ⋯\n",
       "\u001b[1m     \u001b[0m│\u001b[90m Float64 \u001b[0m\u001b[90m Float64       \u001b[0m\u001b[90m Float64        \u001b[0m\u001b[90m Float64       \u001b[0m\u001b[90m Float64         \u001b[0m ⋯\n",
       "─────┼──────────────────────────────────────────────────────────────────────────\n",
       "   1 │ 2022.25           70.0          -140.0           35.0            8404.9 ⋯\n",
       "   2 │ 2022.25           70.0          -139.0           35.0            8300.0\n",
       "   3 │ 2022.25           70.0          -138.0           35.0            8193.8\n",
       "   4 │ 2022.25           70.0          -137.0           35.0            8086.3\n",
       "   5 │ 2022.25           70.0          -136.0           35.0            7977.6 ⋯\n",
       "   6 │ 2022.25           70.0          -135.0           35.0            7867.7\n",
       "   7 │ 2022.25           70.0          -134.0           35.0            7756.9\n",
       "   8 │ 2022.25           70.0          -133.0           35.0            7645.2\n",
       "   9 │ 2022.25           70.0          -132.0           35.0            7532.7 ⋯\n",
       "  10 │ 2022.25           70.0          -131.0           35.0            7419.4\n",
       "  11 │ 2022.25           70.0          -130.0           35.0            7305.6\n",
       "  ⋮  │    ⋮           ⋮              ⋮               ⋮               ⋮         ⋱\n",
       " 963 │ 2022.25           65.0            12.0           35.0           12715.9\n",
       " 964 │ 2022.25           65.0            13.0           35.0           12703.1 ⋯\n",
       " 965 │ 2022.25           65.0            14.0           35.0           12689.7\n",
       " 966 │ 2022.25           65.0            15.0           35.0           12675.7\n",
       " 967 │ 2022.25           65.0            16.0           35.0           12661.0\n",
       " 968 │ 2022.25           65.0            17.0           35.0           12645.7 ⋯\n",
       " 969 │ 2022.25           65.0            18.0           35.0           12629.8\n",
       " 970 │ 2022.25           65.0            19.0           35.0           12613.2\n",
       " 971 │ 2022.25           65.0            20.0           35.0           12596.0\n",
       " 972 │ 2022.25           65.0            21.0           35.0           12578.1 ⋯\n",
       "\u001b[36m                                                  2 columns and 951 rows omitted\u001b[0m"
      ]
     },
     "execution_count": 11,
     "metadata": {},
     "output_type": "execute_result"
    }
   ],
   "source": [
    "wmmSwedenFlight2022 = DataFrame(CSV.File(joinpath(thisdir,\"igrfgridData.csv\")))"
   ]
  },
  {
   "cell_type": "markdown",
   "metadata": {},
   "source": [
    "## Calculate torque"
   ]
  },
  {
   "cell_type": "code",
   "execution_count": 18,
   "metadata": {},
   "outputs": [
    {
     "data": {
      "text/plain": [
       "μ"
      ]
     },
     "execution_count": 18,
     "metadata": {},
     "output_type": "execute_result"
    }
   ],
   "source": [
    "\"\"\"\n",
    "    μ(coil::HelixCoil)\n",
    "\n",
    "Returns the magnitude of the magnetic moment of one of the two coils of the HELIX magnet\n",
    "\"\"\"\n",
    "function μ(coil::HelixCoil)\n",
    "    # The each coil is broken into 3 subcoils for which the outer and inner radius is defined. \n",
    "    # Each subcoil is composed of many current loops, each of which have a magnetic moment of μ=IA oriented perpendicular to the current flow.\n",
    "    \n",
    "    # Use the average area of each subcoil as the area of their loops\n",
    "    ainner = π*coil.rinner .^2\n",
    "    aouter = π*coil.router .^2\n",
    "    aavg = (ainner + aouter)/2\n",
    "    \n",
    "    # Since the current is the same in all the loops, we can combine their areas into an effective area for the subcoil\n",
    "    effective_area = coil.turns .* aavg\n",
    "    \n",
    "    # μ_subcoil=IA\n",
    "    μsubcoils = coil.current*effective_area\n",
    "    \n",
    "    # μ_coil = Σ μ_subcoil\n",
    "    return sum(μsubcoils)\n",
    "end"
   ]
  },
  {
   "cell_type": "code",
   "execution_count": 19,
   "metadata": {},
   "outputs": [
    {
     "data": {
      "text/plain": [
       "2-element Vector{Float64}:\n",
       " 181313.13937894936\n",
       " 180637.4135329068"
      ]
     },
     "execution_count": 19,
     "metadata": {},
     "output_type": "execute_result"
    }
   ],
   "source": [
    "# and the magnetic moment for each coil is...\n",
    "μHelixCoils = μ.(helix_coils)"
   ]
  },
  {
   "cell_type": "code",
   "execution_count": 20,
   "metadata": {},
   "outputs": [
    {
     "data": {
      "text/plain": [
       "12822.6"
      ]
     },
     "execution_count": 20,
     "metadata": {},
     "output_type": "execute_result"
    }
   ],
   "source": [
    "# extract the maximum horizontal B-field for the max torque\n",
    "maxB = max(wmmSwedenFlight2022.\"horintensity(nT)\"...)"
   ]
  },
  {
   "cell_type": "code",
   "execution_count": 22,
   "metadata": {},
   "outputs": [
    {
     "data": {
      "text/plain": [
       "1.2822600000000002e-5"
      ]
     },
     "execution_count": 22,
     "metadata": {},
     "output_type": "execute_result"
    }
   ],
   "source": [
    "# convert to Teslas\n",
    "maxBtesla = maxB*1e-9"
   ]
  },
  {
   "cell_type": "code",
   "execution_count": 23,
   "metadata": {},
   "outputs": [
    {
     "data": {
      "text/plain": [
       "4.641147159767567"
      ]
     },
     "execution_count": 23,
     "metadata": {},
     "output_type": "execute_result"
    }
   ],
   "source": [
    "# τ = μ x B\n",
    "max_torque_nm = sum(μHelixCoils)*maxBtesla"
   ]
  },
  {
   "cell_type": "code",
   "execution_count": 24,
   "metadata": {},
   "outputs": [
    {
     "data": {
      "text/plain": [
       "3.4233050270666094"
      ]
     },
     "execution_count": 24,
     "metadata": {},
     "output_type": "execute_result"
    }
   ],
   "source": [
    "# convert to ft-lbs for us Americans...\n",
    "max_torque_ftlbs = max_torque_nm*(1/0.3048)*(1/4.448)"
   ]
  },
  {
   "cell_type": "markdown",
   "metadata": {},
   "source": [
    "Hence, the maximum torque due to the magnet interacting with the Earth's magnetic field is $\\tau = 3.42 \\text{ ft-lbs}$. For an engineering tolerance though, let's get the torque in a 0.5 gauss B-field:"
   ]
  },
  {
   "cell_type": "code",
   "execution_count": 26,
   "metadata": {},
   "outputs": [
    {
     "data": {
      "text/plain": [
       "13.348716434524237"
      ]
     },
     "execution_count": 26,
     "metadata": {},
     "output_type": "execute_result"
    }
   ],
   "source": [
    "eng_max_torque = max_torque_ftlbs*0.5e-4/maxBtesla"
   ]
  },
  {
   "cell_type": "code",
   "execution_count": null,
   "metadata": {},
   "outputs": [],
   "source": []
  }
 ],
 "metadata": {
  "kernelspec": {
   "display_name": "Julia 1.6.0",
   "language": "julia",
   "name": "julia-1.6"
  },
  "language_info": {
   "file_extension": ".jl",
   "mimetype": "application/julia",
   "name": "julia",
   "version": "1.6.0"
  }
 },
 "nbformat": 4,
 "nbformat_minor": 4
}
